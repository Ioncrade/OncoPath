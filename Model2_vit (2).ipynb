{
  "nbformat": 4,
  "nbformat_minor": 0,
  "metadata": {
    "colab": {
      "provenance": [],
      "gpuType": "T4"
    },
    "kernelspec": {
      "name": "python3",
      "display_name": "Python 3"
    },
    "language_info": {
      "name": "python"
    },
    "accelerator": "GPU",
    "widgets": {
      "application/vnd.jupyter.widget-state+json": {
        "a6d2d804c3624751b98d20dca6f83530": {
          "model_module": "@jupyter-widgets/controls",
          "model_name": "HBoxModel",
          "model_module_version": "1.5.0",
          "state": {
            "_dom_classes": [],
            "_model_module": "@jupyter-widgets/controls",
            "_model_module_version": "1.5.0",
            "_model_name": "HBoxModel",
            "_view_count": null,
            "_view_module": "@jupyter-widgets/controls",
            "_view_module_version": "1.5.0",
            "_view_name": "HBoxView",
            "box_style": "",
            "children": [
              "IPY_MODEL_49f1dae8b3de429498f4653ee5186fc4",
              "IPY_MODEL_f9634ab65f204e1aac8e29fed0ca1ffe",
              "IPY_MODEL_e5b7edff041b4defa794ad9609f116da"
            ],
            "layout": "IPY_MODEL_189ea029b85f4f8c9db9084f7f082101"
          }
        },
        "49f1dae8b3de429498f4653ee5186fc4": {
          "model_module": "@jupyter-widgets/controls",
          "model_name": "HTMLModel",
          "model_module_version": "1.5.0",
          "state": {
            "_dom_classes": [],
            "_model_module": "@jupyter-widgets/controls",
            "_model_module_version": "1.5.0",
            "_model_name": "HTMLModel",
            "_view_count": null,
            "_view_module": "@jupyter-widgets/controls",
            "_view_module_version": "1.5.0",
            "_view_name": "HTMLView",
            "description": "",
            "description_tooltip": null,
            "layout": "IPY_MODEL_5401c8193a67478b802e1a07d6036232",
            "placeholder": "​",
            "style": "IPY_MODEL_51a66958cad24a619032ade658f64b30",
            "value": "model.safetensors: 100%"
          }
        },
        "f9634ab65f204e1aac8e29fed0ca1ffe": {
          "model_module": "@jupyter-widgets/controls",
          "model_name": "FloatProgressModel",
          "model_module_version": "1.5.0",
          "state": {
            "_dom_classes": [],
            "_model_module": "@jupyter-widgets/controls",
            "_model_module_version": "1.5.0",
            "_model_name": "FloatProgressModel",
            "_view_count": null,
            "_view_module": "@jupyter-widgets/controls",
            "_view_module_version": "1.5.0",
            "_view_name": "ProgressView",
            "bar_style": "success",
            "description": "",
            "description_tooltip": null,
            "layout": "IPY_MODEL_c1f215ff908c4cc38bfd7aca8b1fcaf4",
            "max": 346284714,
            "min": 0,
            "orientation": "horizontal",
            "style": "IPY_MODEL_3b1cc0c69b194211916bea8aa2408663",
            "value": 346284714
          }
        },
        "e5b7edff041b4defa794ad9609f116da": {
          "model_module": "@jupyter-widgets/controls",
          "model_name": "HTMLModel",
          "model_module_version": "1.5.0",
          "state": {
            "_dom_classes": [],
            "_model_module": "@jupyter-widgets/controls",
            "_model_module_version": "1.5.0",
            "_model_name": "HTMLModel",
            "_view_count": null,
            "_view_module": "@jupyter-widgets/controls",
            "_view_module_version": "1.5.0",
            "_view_name": "HTMLView",
            "description": "",
            "description_tooltip": null,
            "layout": "IPY_MODEL_c428a9a233fc4f659e8b489719b11740",
            "placeholder": "​",
            "style": "IPY_MODEL_1de789ece35c4e7e90396e286961ce01",
            "value": " 346M/346M [00:01&lt;00:00, 248MB/s]"
          }
        },
        "189ea029b85f4f8c9db9084f7f082101": {
          "model_module": "@jupyter-widgets/base",
          "model_name": "LayoutModel",
          "model_module_version": "1.2.0",
          "state": {
            "_model_module": "@jupyter-widgets/base",
            "_model_module_version": "1.2.0",
            "_model_name": "LayoutModel",
            "_view_count": null,
            "_view_module": "@jupyter-widgets/base",
            "_view_module_version": "1.2.0",
            "_view_name": "LayoutView",
            "align_content": null,
            "align_items": null,
            "align_self": null,
            "border": null,
            "bottom": null,
            "display": null,
            "flex": null,
            "flex_flow": null,
            "grid_area": null,
            "grid_auto_columns": null,
            "grid_auto_flow": null,
            "grid_auto_rows": null,
            "grid_column": null,
            "grid_gap": null,
            "grid_row": null,
            "grid_template_areas": null,
            "grid_template_columns": null,
            "grid_template_rows": null,
            "height": null,
            "justify_content": null,
            "justify_items": null,
            "left": null,
            "margin": null,
            "max_height": null,
            "max_width": null,
            "min_height": null,
            "min_width": null,
            "object_fit": null,
            "object_position": null,
            "order": null,
            "overflow": null,
            "overflow_x": null,
            "overflow_y": null,
            "padding": null,
            "right": null,
            "top": null,
            "visibility": null,
            "width": null
          }
        },
        "5401c8193a67478b802e1a07d6036232": {
          "model_module": "@jupyter-widgets/base",
          "model_name": "LayoutModel",
          "model_module_version": "1.2.0",
          "state": {
            "_model_module": "@jupyter-widgets/base",
            "_model_module_version": "1.2.0",
            "_model_name": "LayoutModel",
            "_view_count": null,
            "_view_module": "@jupyter-widgets/base",
            "_view_module_version": "1.2.0",
            "_view_name": "LayoutView",
            "align_content": null,
            "align_items": null,
            "align_self": null,
            "border": null,
            "bottom": null,
            "display": null,
            "flex": null,
            "flex_flow": null,
            "grid_area": null,
            "grid_auto_columns": null,
            "grid_auto_flow": null,
            "grid_auto_rows": null,
            "grid_column": null,
            "grid_gap": null,
            "grid_row": null,
            "grid_template_areas": null,
            "grid_template_columns": null,
            "grid_template_rows": null,
            "height": null,
            "justify_content": null,
            "justify_items": null,
            "left": null,
            "margin": null,
            "max_height": null,
            "max_width": null,
            "min_height": null,
            "min_width": null,
            "object_fit": null,
            "object_position": null,
            "order": null,
            "overflow": null,
            "overflow_x": null,
            "overflow_y": null,
            "padding": null,
            "right": null,
            "top": null,
            "visibility": null,
            "width": null
          }
        },
        "51a66958cad24a619032ade658f64b30": {
          "model_module": "@jupyter-widgets/controls",
          "model_name": "DescriptionStyleModel",
          "model_module_version": "1.5.0",
          "state": {
            "_model_module": "@jupyter-widgets/controls",
            "_model_module_version": "1.5.0",
            "_model_name": "DescriptionStyleModel",
            "_view_count": null,
            "_view_module": "@jupyter-widgets/base",
            "_view_module_version": "1.2.0",
            "_view_name": "StyleView",
            "description_width": ""
          }
        },
        "c1f215ff908c4cc38bfd7aca8b1fcaf4": {
          "model_module": "@jupyter-widgets/base",
          "model_name": "LayoutModel",
          "model_module_version": "1.2.0",
          "state": {
            "_model_module": "@jupyter-widgets/base",
            "_model_module_version": "1.2.0",
            "_model_name": "LayoutModel",
            "_view_count": null,
            "_view_module": "@jupyter-widgets/base",
            "_view_module_version": "1.2.0",
            "_view_name": "LayoutView",
            "align_content": null,
            "align_items": null,
            "align_self": null,
            "border": null,
            "bottom": null,
            "display": null,
            "flex": null,
            "flex_flow": null,
            "grid_area": null,
            "grid_auto_columns": null,
            "grid_auto_flow": null,
            "grid_auto_rows": null,
            "grid_column": null,
            "grid_gap": null,
            "grid_row": null,
            "grid_template_areas": null,
            "grid_template_columns": null,
            "grid_template_rows": null,
            "height": null,
            "justify_content": null,
            "justify_items": null,
            "left": null,
            "margin": null,
            "max_height": null,
            "max_width": null,
            "min_height": null,
            "min_width": null,
            "object_fit": null,
            "object_position": null,
            "order": null,
            "overflow": null,
            "overflow_x": null,
            "overflow_y": null,
            "padding": null,
            "right": null,
            "top": null,
            "visibility": null,
            "width": null
          }
        },
        "3b1cc0c69b194211916bea8aa2408663": {
          "model_module": "@jupyter-widgets/controls",
          "model_name": "ProgressStyleModel",
          "model_module_version": "1.5.0",
          "state": {
            "_model_module": "@jupyter-widgets/controls",
            "_model_module_version": "1.5.0",
            "_model_name": "ProgressStyleModel",
            "_view_count": null,
            "_view_module": "@jupyter-widgets/base",
            "_view_module_version": "1.2.0",
            "_view_name": "StyleView",
            "bar_color": null,
            "description_width": ""
          }
        },
        "c428a9a233fc4f659e8b489719b11740": {
          "model_module": "@jupyter-widgets/base",
          "model_name": "LayoutModel",
          "model_module_version": "1.2.0",
          "state": {
            "_model_module": "@jupyter-widgets/base",
            "_model_module_version": "1.2.0",
            "_model_name": "LayoutModel",
            "_view_count": null,
            "_view_module": "@jupyter-widgets/base",
            "_view_module_version": "1.2.0",
            "_view_name": "LayoutView",
            "align_content": null,
            "align_items": null,
            "align_self": null,
            "border": null,
            "bottom": null,
            "display": null,
            "flex": null,
            "flex_flow": null,
            "grid_area": null,
            "grid_auto_columns": null,
            "grid_auto_flow": null,
            "grid_auto_rows": null,
            "grid_column": null,
            "grid_gap": null,
            "grid_row": null,
            "grid_template_areas": null,
            "grid_template_columns": null,
            "grid_template_rows": null,
            "height": null,
            "justify_content": null,
            "justify_items": null,
            "left": null,
            "margin": null,
            "max_height": null,
            "max_width": null,
            "min_height": null,
            "min_width": null,
            "object_fit": null,
            "object_position": null,
            "order": null,
            "overflow": null,
            "overflow_x": null,
            "overflow_y": null,
            "padding": null,
            "right": null,
            "top": null,
            "visibility": null,
            "width": null
          }
        },
        "1de789ece35c4e7e90396e286961ce01": {
          "model_module": "@jupyter-widgets/controls",
          "model_name": "DescriptionStyleModel",
          "model_module_version": "1.5.0",
          "state": {
            "_model_module": "@jupyter-widgets/controls",
            "_model_module_version": "1.5.0",
            "_model_name": "DescriptionStyleModel",
            "_view_count": null,
            "_view_module": "@jupyter-widgets/base",
            "_view_module_version": "1.2.0",
            "_view_name": "StyleView",
            "description_width": ""
          }
        }
      }
    }
  },
  "cells": [
    {
      "cell_type": "code",
      "execution_count": 1,
      "metadata": {
        "id": "gxO9aoYV94Kk"
      },
      "outputs": [],
      "source": [
        "import os\n",
        "import torch\n",
        "import torch.nn as nn\n",
        "import torch.optim as optim\n",
        "import torchvision.transforms as transforms\n",
        "import torchvision.datasets as datasets\n",
        "from torch.utils.data import DataLoader, random_split\n",
        "from timm import create_model"
      ]
    },
    {
      "cell_type": "code",
      "source": [
        "# Set device\n",
        "device = torch.device(\"cuda\" if torch.cuda.is_available() else \"cpu\")"
      ],
      "metadata": {
        "id": "WZXBz-S_-LVV"
      },
      "execution_count": 2,
      "outputs": []
    },
    {
      "cell_type": "code",
      "source": [
        "# Define dataset path (Ensure dataset has folders: aca_bd, aca_md, aca_pd)\n",
        "dataset_path = \"/content/drive/MyDrive/Final\""
      ],
      "metadata": {
        "id": "BP4QvpV--P9F"
      },
      "execution_count": 3,
      "outputs": []
    },
    {
      "cell_type": "code",
      "source": [
        "# Data Transformations (Augmentation for better performance)\n",
        "data_transforms = transforms.Compose([\n",
        "    transforms.Resize((224, 224)),\n",
        "    transforms.RandomHorizontalFlip(),\n",
        "    transforms.RandomRotation(10),\n",
        "    transforms.ToTensor(),\n",
        "    transforms.Normalize(mean=[0.485, 0.456, 0.406], std=[0.229, 0.224, 0.225])\n",
        "])"
      ],
      "metadata": {
        "id": "KUwbFgbCEM72"
      },
      "execution_count": 4,
      "outputs": []
    },
    {
      "cell_type": "code",
      "source": [
        "# Load Dataset\n",
        "dataset = datasets.ImageFolder(root=dataset_path, transform=data_transforms)\n"
      ],
      "metadata": {
        "id": "c9iTJzCiEX9Y"
      },
      "execution_count": 5,
      "outputs": []
    },
    {
      "cell_type": "code",
      "source": [
        "# Split dataset into Train (80%), Validation (10%), Test (10%)\n",
        "train_size = int(0.8 * len(dataset))\n",
        "val_size = int(0.1 * len(dataset))\n",
        "test_size = len(dataset) - train_size - val_size\n",
        "train_dataset, val_dataset, test_dataset = random_split(dataset, [train_size, val_size, test_size])\n"
      ],
      "metadata": {
        "id": "o1c8vykcEbIJ"
      },
      "execution_count": 6,
      "outputs": []
    },
    {
      "cell_type": "code",
      "source": [
        "# Create Data Loaders\n",
        "batch_size = 32\n",
        "train_loader = DataLoader(train_dataset, batch_size=batch_size, shuffle=True)\n",
        "val_loader = DataLoader(val_dataset, batch_size=batch_size, shuffle=False)\n",
        "test_loader = DataLoader(test_dataset, batch_size=batch_size, shuffle=False)"
      ],
      "metadata": {
        "id": "SFJ-Lb_rQdxX"
      },
      "execution_count": 7,
      "outputs": []
    },
    {
      "cell_type": "code",
      "source": [
        "# Load Pretrained Vision Transformer Model (ViT)\n",
        "model = create_model('vit_base_patch16_224', pretrained=True, num_classes=3)\n",
        "model = model.to(device)"
      ],
      "metadata": {
        "colab": {
          "base_uri": "https://localhost:8080/",
          "height": 173,
          "referenced_widgets": [
            "a6d2d804c3624751b98d20dca6f83530",
            "49f1dae8b3de429498f4653ee5186fc4",
            "f9634ab65f204e1aac8e29fed0ca1ffe",
            "e5b7edff041b4defa794ad9609f116da",
            "189ea029b85f4f8c9db9084f7f082101",
            "5401c8193a67478b802e1a07d6036232",
            "51a66958cad24a619032ade658f64b30",
            "c1f215ff908c4cc38bfd7aca8b1fcaf4",
            "3b1cc0c69b194211916bea8aa2408663",
            "c428a9a233fc4f659e8b489719b11740",
            "1de789ece35c4e7e90396e286961ce01"
          ]
        },
        "id": "lwxspTt2EfaX",
        "outputId": "5015e7da-d974-4dd8-db6a-f9a1ef15ea30"
      },
      "execution_count": 8,
      "outputs": [
        {
          "output_type": "stream",
          "name": "stderr",
          "text": [
            "/usr/local/lib/python3.11/dist-packages/huggingface_hub/utils/_auth.py:94: UserWarning: \n",
            "The secret `HF_TOKEN` does not exist in your Colab secrets.\n",
            "To authenticate with the Hugging Face Hub, create a token in your settings tab (https://huggingface.co/settings/tokens), set it as secret in your Google Colab and restart your session.\n",
            "You will be able to reuse this secret in all of your notebooks.\n",
            "Please note that authentication is recommended but still optional to access public models or datasets.\n",
            "  warnings.warn(\n"
          ]
        },
        {
          "output_type": "display_data",
          "data": {
            "text/plain": [
              "model.safetensors:   0%|          | 0.00/346M [00:00<?, ?B/s]"
            ],
            "application/vnd.jupyter.widget-view+json": {
              "version_major": 2,
              "version_minor": 0,
              "model_id": "a6d2d804c3624751b98d20dca6f83530"
            }
          },
          "metadata": {}
        }
      ]
    },
    {
      "cell_type": "code",
      "source": [
        "# Add Dropout to Fully Connected Layers\n",
        "for name, module in model.named_children():\n",
        "    if isinstance(module, nn.Linear):\n",
        "        setattr(model, name, nn.Sequential(\n",
        "            module,\n",
        "            nn.Dropout(0.3)  # 30% dropout to prevent overfitting\n",
        "        ))"
      ],
      "metadata": {
        "id": "F6t6YqidIhLS"
      },
      "execution_count": 9,
      "outputs": []
    },
    {
      "cell_type": "code",
      "source": [
        "# Define Loss Function and Optimizer\n",
        "criterion = nn.CrossEntropyLoss()\n",
        "optimizer = optim.Adam(model.parameters(), lr=0.0001,weight_decay=1e-4)\n",
        "scheduler = torch.optim.lr_scheduler.ReduceLROnPlateau(optimizer, mode='min', patience=3, factor=0.5, verbose=True)"
      ],
      "metadata": {
        "colab": {
          "base_uri": "https://localhost:8080/"
        },
        "id": "XnrdoQ2OEglH",
        "outputId": "73c8bf8e-009b-46cb-b3c6-26af19999250"
      },
      "execution_count": 10,
      "outputs": [
        {
          "output_type": "stream",
          "name": "stderr",
          "text": [
            "/usr/local/lib/python3.11/dist-packages/torch/optim/lr_scheduler.py:62: UserWarning: The verbose parameter is deprecated. Please use get_last_lr() to access the learning rate.\n",
            "  warnings.warn(\n"
          ]
        }
      ]
    },
    {
      "cell_type": "code",
      "source": [
        "# Training Function\n",
        "def train_model(model, train_loader, val_loader, epochs=30):\n",
        "    best_acc = 0.0\n",
        "    for epoch in range(epochs):\n",
        "        model.train()\n",
        "        running_loss, correct, total = 0.0, 0, 0\n",
        "\n",
        "        for images, labels in train_loader:\n",
        "            images, labels = images.to(device), labels.to(device)\n",
        "            optimizer.zero_grad()\n",
        "            outputs = model(images)\n",
        "            loss = criterion(outputs, labels)\n",
        "            loss.backward()\n",
        "            optimizer.step()\n",
        "\n",
        "            running_loss += loss.item()\n",
        "            _, predicted = outputs.max(1)\n",
        "            correct += (predicted == labels).sum().item()\n",
        "            total += labels.size(0)\n",
        "\n",
        "        train_acc = 100 * correct / total\n",
        "        val_acc = evaluate_model(model, val_loader)\n",
        "        print(f\"Epoch {epoch+1}/{epochs}: Train Loss: {running_loss/len(train_loader):.4f}, Train Acc: {train_acc:.2f}%, Val Acc: {val_acc:.2f}%\")\n",
        "        scheduler.step(val_acc)  # Adjust learning rate based on validation accuracy\n",
        "         # Save Best Model\n",
        "        if val_acc > best_acc:\n",
        "            best_acc = val_acc\n",
        "            torch.save(model.state_dict(), \"differentiation_model.pth\")\n",
        ""
      ],
      "metadata": {
        "id": "YFLivtQbEo29"
      },
      "execution_count": 11,
      "outputs": []
    },
    {
      "cell_type": "code",
      "source": [
        "# Evaluation Function\n",
        "def evaluate_model(model, data_loader):\n",
        "    model.eval()\n",
        "    correct, total = 0, 0\n",
        "    with torch.no_grad():\n",
        "        for images, labels in data_loader:\n",
        "            images, labels = images.to(device), labels.to(device)\n",
        "            outputs = model(images)\n",
        "            _, predicted = outputs.max(1)\n",
        "            correct += (predicted == labels).sum().item()\n",
        "            total += labels.size(0)\n",
        "    return 100 * correct / total"
      ],
      "metadata": {
        "id": "WVST7evQEvG2"
      },
      "execution_count": 12,
      "outputs": []
    },
    {
      "cell_type": "code",
      "source": [
        "# Train the Model\n",
        "train_model(model, train_loader, val_loader, epochs=30)"
      ],
      "metadata": {
        "colab": {
          "base_uri": "https://localhost:8080/"
        },
        "id": "coo_AyPfE4lf",
        "outputId": "575ace20-bf8f-4e62-ab4d-f23a128db731"
      },
      "execution_count": 13,
      "outputs": [
        {
          "output_type": "stream",
          "name": "stdout",
          "text": [
            "Epoch 1/30: Train Loss: 1.6025, Train Acc: 35.27%, Val Acc: 39.29%\n",
            "Epoch 2/30: Train Loss: 1.1980, Train Acc: 37.50%, Val Acc: 28.57%\n",
            "Epoch 3/30: Train Loss: 1.0717, Train Acc: 40.62%, Val Acc: 50.00%\n",
            "Epoch 4/30: Train Loss: 1.0064, Train Acc: 46.88%, Val Acc: 60.71%\n",
            "Epoch 5/30: Train Loss: 0.9888, Train Acc: 50.89%, Val Acc: 64.29%\n",
            "Epoch 6/30: Train Loss: 0.9503, Train Acc: 52.68%, Val Acc: 64.29%\n",
            "Epoch 7/30: Train Loss: 0.8793, Train Acc: 60.71%, Val Acc: 71.43%\n",
            "Epoch 8/30: Train Loss: 0.8369, Train Acc: 59.82%, Val Acc: 75.00%\n",
            "Epoch 9/30: Train Loss: 0.7590, Train Acc: 66.52%, Val Acc: 78.57%\n",
            "Epoch 10/30: Train Loss: 0.7106, Train Acc: 65.18%, Val Acc: 67.86%\n",
            "Epoch 11/30: Train Loss: 0.7358, Train Acc: 62.95%, Val Acc: 60.71%\n",
            "Epoch 12/30: Train Loss: 0.7085, Train Acc: 68.30%, Val Acc: 75.00%\n",
            "Epoch 13/30: Train Loss: 0.6177, Train Acc: 70.09%, Val Acc: 85.71%\n",
            "Epoch 14/30: Train Loss: 0.5673, Train Acc: 77.23%, Val Acc: 85.71%\n",
            "Epoch 15/30: Train Loss: 0.5022, Train Acc: 79.02%, Val Acc: 82.14%\n",
            "Epoch 16/30: Train Loss: 0.4483, Train Acc: 81.25%, Val Acc: 85.71%\n",
            "Epoch 17/30: Train Loss: 0.4204, Train Acc: 83.93%, Val Acc: 82.14%\n",
            "Epoch 18/30: Train Loss: 0.4164, Train Acc: 82.14%, Val Acc: 82.14%\n",
            "Epoch 19/30: Train Loss: 0.3341, Train Acc: 88.84%, Val Acc: 85.71%\n",
            "Epoch 20/30: Train Loss: 0.3766, Train Acc: 82.14%, Val Acc: 75.00%\n",
            "Epoch 21/30: Train Loss: 0.3349, Train Acc: 85.71%, Val Acc: 75.00%\n",
            "Epoch 22/30: Train Loss: 0.2913, Train Acc: 84.38%, Val Acc: 92.86%\n",
            "Epoch 23/30: Train Loss: 0.2778, Train Acc: 88.39%, Val Acc: 78.57%\n",
            "Epoch 24/30: Train Loss: 0.3141, Train Acc: 85.27%, Val Acc: 85.71%\n",
            "Epoch 25/30: Train Loss: 0.2211, Train Acc: 87.05%, Val Acc: 89.29%\n",
            "Epoch 26/30: Train Loss: 0.2486, Train Acc: 87.05%, Val Acc: 85.71%\n",
            "Epoch 27/30: Train Loss: 0.2266, Train Acc: 88.84%, Val Acc: 85.71%\n",
            "Epoch 28/30: Train Loss: 0.2324, Train Acc: 87.50%, Val Acc: 85.71%\n",
            "Epoch 29/30: Train Loss: 0.2594, Train Acc: 88.39%, Val Acc: 89.29%\n",
            "Epoch 30/30: Train Loss: 0.1946, Train Acc: 91.07%, Val Acc: 82.14%\n"
          ]
        }
      ]
    },
    {
      "cell_type": "code",
      "source": [
        "# Test the Model\n",
        "test_acc = evaluate_model(model, test_loader)\n",
        "print(f\"Test Accuracy: {test_acc:.2f}%\")\n"
      ],
      "metadata": {
        "colab": {
          "base_uri": "https://localhost:8080/"
        },
        "id": "sGPhVeqCE695",
        "outputId": "34ae94bb-2849-4c7e-b832-640b8959b310"
      },
      "execution_count": 14,
      "outputs": [
        {
          "output_type": "stream",
          "name": "stdout",
          "text": [
            "Test Accuracy: 89.29%\n"
          ]
        }
      ]
    },
    {
      "cell_type": "code",
      "source": [
        "def predict_image(image_path, model, device):\n",
        "    from PIL import Image\n",
        "    import torchvision.transforms as transforms\n",
        "\n",
        "    model.eval()\n",
        "    transform = transforms.Compose([\n",
        "        transforms.Resize((224, 224)),\n",
        "        transforms.ToTensor(),\n",
        "        transforms.Normalize(mean=[0.485, 0.456, 0.406], std=[0.229, 0.224, 0.225])\n",
        "    ])\n",
        "\n",
        "    image = Image.open(image_path)\n",
        "    image = transform(image).unsqueeze(0).to(device)\n",
        "\n",
        "    with torch.no_grad():\n",
        "        output = model(image)\n",
        "        _, predicted = torch.max(output, 1)\n",
        "\n",
        "    return predicted.item()\n",
        "\n",
        "# Example usage\n",
        "predicted_class = predict_image(\"/content/test_image.jpeg\", model, device)\n",
        "print(f\"Predicted Class: {predicted_class}\")\n",
        "#Predicted 0: aca_bd= well differentiated\n",
        "#Predicted 1: aca_md= moderately differentiated\n",
        "#Predicted 2: aca_pd= poorly differentiated\n"
      ],
      "metadata": {
        "colab": {
          "base_uri": "https://localhost:8080/"
        },
        "id": "0IKiRPA_OCRx",
        "outputId": "1231c96b-6d11-46ae-cb1e-e3f3fee8b38d"
      },
      "execution_count": 21,
      "outputs": [
        {
          "output_type": "stream",
          "name": "stdout",
          "text": [
            "Predicted Class: 1\n"
          ]
        }
      ]
    },
    {
      "cell_type": "code",
      "source": [
        "torch.save(model.state_dict(), \"/content/drive/MyDrive/final_vit_model.pth\")"
      ],
      "metadata": {
        "id": "o3d7YqkqQqhs"
      },
      "execution_count": 22,
      "outputs": []
    }
  ]
}